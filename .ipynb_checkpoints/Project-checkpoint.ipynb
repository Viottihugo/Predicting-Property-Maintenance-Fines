{
 "cells": [
  {
   "cell_type": "code",
   "execution_count": 12,
   "metadata": {},
   "outputs": [
    {
     "name": "stdout",
     "output_type": "stream",
     "text": [
      "roc_auc:   0.5509464105313632\n"
     ]
    }
   ],
   "source": [
    "import pandas as pd\n",
    "import numpy as np\n",
    "from sklearn.ensemble import RandomForestClassifier\n",
    "from sklearn.svm import SVC\n",
    "from sklearn.model_selection import train_test_split\n",
    "from sklearn.metrics import roc_auc_score\n",
    "from sklearn.metrics import roc_curve, auc\n",
    "from sklearn.model_selection import GridSearchCV\n",
    "from datetime import datetime\n",
    "\n",
    "#We have previosly split the data into 2 files, named train.csv and test.csv, to avoid data leakage.\n",
    "    \n",
    "df = pd.read_csv('train.csv',  encoding = 'L1')\n",
    "df.set_index ('ticket_id', inplace=True)\n",
    "\n",
    "#print(df.columns)\n",
    "\n",
    "#First, we'll discard all NaN in the Compliance column, and drop the columns that have almost no info other than NaN\n",
    "    \n",
    "df = df[df['compliance'].notnull()]    \n",
    "df=df[[ 'fine_amount', 'admin_fee', 'state_fee', 'late_fee', 'discount_amount', 'compliance']]# 'ticket_issued_date', 'hearing_date', were removed because they didn't add much  \n",
    "\n",
    "\n",
    "#df['violation_street_name'] = df['violation_street_name'].str.lower()\n",
    "#df['city'] = df['city'].str.lower()\n",
    "#df['state'] = df['state'].str.lower()\n",
    "#df['violation_code'] = df['violation_code'].str.lower()\n",
    "#df['ticket_issued_date'] = pd.to_datetime(df['ticket_issued_date']).timestamp()\n",
    "#df['hearing_date'] =  df['hearing_date'].apply(lambda x: x.timestamp())\n",
    "    \n",
    "#now we clear the NaN values    \n",
    "X=df.iloc[:,:-1]\n",
    "X=X.dropna()\n",
    "\n",
    "y=df['compliance']\n",
    "    \n",
    "X_train, X_test, y_train, y_test = train_test_split(X, y, random_state = 0)\n",
    "\n",
    "\n",
    "#Given the features of the data I'll try to use a random forest classifier, and we'll set the AUC of the ROC to measure it's performance.\n",
    "\n",
    "Rforest_clf = RandomForestClassifier(random_state = 0).fit(X_train, y_train)\n",
    "y_score = Rforest_clf.predict(X_test)\n",
    "fpr, tpr, _ = roc_curve(y_test, y_score)\n",
    "roc_auc = auc(fpr, tpr)\n",
    "print('roc_auc:  ',roc_auc)"
   ]
  },
  {
   "cell_type": "code",
   "execution_count": 2,
   "metadata": {},
   "outputs": [
    {
     "name": "stdout",
     "output_type": "stream",
     "text": [
      "Test set AUC:  0.5504547085031839\n",
      "Grid best parameter (max. AUC):  {'n_estimators': 1000}\n",
      "Grid best score (AUC):  0.7582558031398563\n"
     ]
    }
   ],
   "source": [
    "Rforest_clf = RandomForestClassifier(random_state = 0)\n",
    "grid_values={'n_estimators': [40, 50, 60, 70, 80, 90, 100, 500, 1000]}    \n",
    "grid_clf_auc = GridSearchCV(Rforest_clf, param_grid = grid_values , n_jobs=-1, scoring = 'roc_auc')\n",
    "grid_clf_auc.fit(X_train, y_train)\n",
    "y_decision_scores_auc = grid_clf_auc.predict(X_test)    \n",
    "    \n",
    "print('Test set AUC: ', roc_auc_score(y_test, y_decision_scores_auc))\n",
    "print('Grid best parameter (max. AUC): ', grid_clf_auc.best_params_)\n",
    "print('Grid best score (AUC): ', grid_clf_auc.best_score_)\n",
    "\n",
    "\n",
    "#Results#    \n",
    "#Test set AUC:  0.5504547085031839\n",
    "#Grid best parameter (max. AUC):  {'n_estimators': 1000}\n",
    "#Grid best score (AUC):  0.7582558031398563"
   ]
  },
  {
   "cell_type": "code",
   "execution_count": 3,
   "metadata": {},
   "outputs": [
    {
     "name": "stdout",
     "output_type": "stream",
     "text": [
      "roc_auc:   0.5509464105313632\n"
     ]
    }
   ],
   "source": [
    "Rforest_clf = RandomForestClassifier(n_estimators = 1000).fit(X_train, y_train)\n",
    "y_score = Rforest_clf.predict(X_test)\n",
    "fpr, tpr, _ = roc_curve(y_test, y_score)\n",
    "roc_auc = auc(fpr, tpr)\n",
    "print('roc_auc:  ',roc_auc)\n"
   ]
  }
 ],
 "metadata": {
  "kernelspec": {
   "display_name": "Python 3",
   "language": "python",
   "name": "python3"
  },
  "language_info": {
   "codemirror_mode": {
    "name": "ipython",
    "version": 3
   },
   "file_extension": ".py",
   "mimetype": "text/x-python",
   "name": "python",
   "nbconvert_exporter": "python",
   "pygments_lexer": "ipython3",
   "version": "3.8.3"
  }
 },
 "nbformat": 4,
 "nbformat_minor": 4
}
