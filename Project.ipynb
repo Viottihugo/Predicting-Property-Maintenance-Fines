{
 "cells": [
  {
   "cell_type": "code",
   "execution_count": 9,
   "metadata": {},
   "outputs": [],
   "source": [
    "import pandas as pd\n",
    "import numpy as np\n",
    "\n",
    "\n",
    "def blight_model():\n",
    "    from sklearn.ensemble import RandomForestClassifier\n",
    "    from sklearn.svm import SVC\n",
    "    from sklearn.model_selection import train_test_split\n",
    "    from sklearn.metrics import roc_auc_score\n",
    "    from sklearn.metrics import roc_curve, auc\n",
    "    from sklearn.model_selection import GridSearchCV\n",
    "    from datetime import datetime\n",
    "    \n",
    "    df = pd.read_csv('train.csv',  encoding = 'L1')\n",
    "    df.set_index ('ticket_id', inplace=True)\n",
    "    # Your code here\n",
    "    #First, we'll discard all NaN in the Compliance column, and drop the columns that have almost no info other than NaN  \n",
    "    df = df[df['compliance'].notnull()]    \n",
    "    df=df[[ 'fine_amount', 'admin_fee',\n",
    "            'state_fee', 'late_fee', 'discount_amount', 'compliance']]#'ticket_issued_date', 'hearing_date', \n",
    "        \n",
    "    #now we clear the NaN values\n",
    "    #df.dropna(inplace=True)\n",
    "    \n",
    "    #df['violation_street_name'] = df['violation_street_name'].str.lower()\n",
    "    #df['city'] = df['city'].str.lower()\n",
    "    #df['state'] = df['state'].str.lower()\n",
    "    #df['violation_code'] = df['violation_code'].str.lower()\n",
    "    #df['ticket_issued_date'] = pd.to_datetime(df['ticket_issued_date']).astype(int)\n",
    "    #df['hearing_date'] =  pd.to_datetime(df['hearing_date']).astype(int)\n",
    "    X=df.iloc[:,:-1]\n",
    "    \n",
    "    X=X.dropna()\n",
    "    \n",
    "   \n",
    "    y=df['compliance']\n",
    "    \n",
    "    X_train, X_test, y_train, y_test = train_test_split(X, y, random_state = 0)\n",
    "    \n",
    "    #Rforest_clf = RandomForestClassifier(random_state = 0).fit(X_train, y_train)\n",
    "    \n",
    "    #y_score = Rforest_clf.predict(X_test)\n",
    "        \n",
    "    #fpr, tpr, _ = roc_curve(y_test, y_score)\n",
    "    \n",
    "    #roc_auc = auc(fpr, tpr)\n",
    "    \n",
    "    #print('roc_auc:  ',roc_auc)\n",
    "    \n",
    "    # roc_auc default:   0.642229285696\n",
    "    Rforest_clf = RandomForestClassifier(random_state = 0)\n",
    "    grid_values={'n_estimators': [40, 50, 60, 70, 80, 90, 100, 500, 1000]}\n",
    "    \n",
    "    grid_clf_auc = GridSearchCV(Rforest_clf, param_grid = grid_values , n_jobs=-1, scoring = 'roc_auc')\n",
    "    grid_clf_auc.fit(X_train, y_train)\n",
    "    y_decision_scores_auc = grid_clf_auc.predict(X_test)    \n",
    "    \n",
    "    print('Test set AUC: ', roc_auc_score(y_test, y_decision_scores_auc))\n",
    "    print('Grid best parameter (max. AUC): ', grid_clf_auc.best_params_)\n",
    "    print('Grid best score (AUC): ', grid_clf_auc.best_score_)\n",
    "    \n",
    "    # Grid best parameter (max. AUC):  {'max_depth': 10, 'n_estimators': 50}\n",
    "    # Grid best score (AUC):  0.802285761817\n",
    "        \n",
    "    #print('Test set AUC: ', roc_auc_score(y_test, y_decision_fn_scores_auc))\n",
    "    #print('Grid best parameter (max. AUC): ', grid_clf_auc.best_params_)\n",
    "    #print('Grid best score (AUC): ', grid_clf_auc.best_score_)\n",
    "    \n",
    "    \n",
    "    \n",
    "    return #_dummies# Your answer here"
   ]
  },
  {
   "cell_type": "code",
   "execution_count": 10,
   "metadata": {},
   "outputs": [
    {
     "name": "stderr",
     "output_type": "stream",
     "text": [
      "D:\\Anaconda3\\lib\\site-packages\\IPython\\core\\interactiveshell.py:3263: DtypeWarning: Columns (11,12,31) have mixed types.Specify dtype option on import or set low_memory=False.\n",
      "  if (await self.run_code(code, result,  async_=asy)):\n"
     ]
    },
    {
     "name": "stdout",
     "output_type": "stream",
     "text": [
      "Test set AUC:  0.5504547085031839\n",
      "Grid best parameter (max. AUC):  {'n_estimators': 1000}\n",
      "Grid best score (AUC):  0.7582558031398563\n"
     ]
    }
   ],
   "source": [
    "blight_model()"
   ]
  },
  {
   "cell_type": "code",
   "execution_count": null,
   "metadata": {},
   "outputs": [],
   "source": []
  }
 ],
 "metadata": {
  "kernelspec": {
   "display_name": "Python 3",
   "language": "python",
   "name": "python3"
  },
  "language_info": {
   "codemirror_mode": {
    "name": "ipython",
    "version": 3
   },
   "file_extension": ".py",
   "mimetype": "text/x-python",
   "name": "python",
   "nbconvert_exporter": "python",
   "pygments_lexer": "ipython3",
   "version": "3.8.3"
  }
 },
 "nbformat": 4,
 "nbformat_minor": 4
}
